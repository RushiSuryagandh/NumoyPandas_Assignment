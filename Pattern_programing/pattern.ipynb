{
 "cells": [
  {
   "cell_type": "code",
   "execution_count": 4,
   "metadata": {},
   "outputs": [
    {
     "name": "stdout",
     "output_type": "stream",
     "text": [
      "* \n",
      "* * \n",
      "* * * \n",
      "* * * * \n",
      "* * * * * \n"
     ]
    }
   ],
   "source": [
    "\n",
    "# Increasing Triangle\n",
    "n=5\n",
    "def increasing_triangle(n):\n",
    "    for i in range(n):\n",
    "        for j in range(i+1):\n",
    "            print('*',end=' ')\n",
    "        print()\n",
    "increasing_triangle(n)"
   ]
  },
  {
   "cell_type": "code",
   "execution_count": 6,
   "metadata": {},
   "outputs": [
    {
     "name": "stdout",
     "output_type": "stream",
     "text": [
      "* * * * * \n",
      "* * * * \n",
      "* * * \n",
      "* * \n",
      "* \n"
     ]
    }
   ],
   "source": [
    "# Decreasing Triangle\n",
    "n=5\n",
    "for i in range(n):\n",
    "    for j in range(n-i):\n",
    "        print('*',end=\" \")\n",
    "    print()"
   ]
  },
  {
   "cell_type": "code",
   "execution_count": 8,
   "metadata": {},
   "outputs": [
    {
     "name": "stdout",
     "output_type": "stream",
     "text": [
      "          * \n",
      "        * * * \n",
      "      * * * * * \n",
      "    * * * * * * * \n",
      "  * * * * * * * * * \n"
     ]
    }
   ],
   "source": [
    "# Pyramid Pattern\n",
    "for i in range(n):\n",
    "    for j in range(n-i):\n",
    "        print(\" \",end=\" \")\n",
    "\n",
    "    for k in range(i):\n",
    "        print(\"*\",end=\" \")\n",
    "    \n",
    "    for l in range(i+1):\n",
    "        print(\"*\",end=\" \")\n",
    "    print()"
   ]
  },
  {
   "cell_type": "code",
   "execution_count": 9,
   "metadata": {},
   "outputs": [
    {
     "name": "stdout",
     "output_type": "stream",
     "text": [
      "* * * * * * * * * \n",
      "  * * * * * * * \n",
      "    * * * * * \n",
      "      * * * \n",
      "        * \n"
     ]
    }
   ],
   "source": [
    "# reverse Pyramid Pattern\n",
    "for i in range(n):\n",
    "    for j in range(i):\n",
    "        print(' ',end=\" \")\n",
    "    for k in range(n-i):\n",
    "        print('*',end=' ')\n",
    "    for l in range(n-i-1):\n",
    "        print('*',end=\" \")\n",
    "    print()"
   ]
  },
  {
   "cell_type": "code",
   "execution_count": 11,
   "metadata": {},
   "outputs": [
    {
     "name": "stdout",
     "output_type": "stream",
     "text": [
      "        * \n",
      "      * * * \n",
      "    * * * * * \n",
      "  * * * * * * * \n",
      "* * * * * * * * * \n",
      "  * * * * * * * \n",
      "    * * * * * \n",
      "      * * * \n",
      "        * \n"
     ]
    }
   ],
   "source": [
    "# Diamond Pattern\n",
    "for i in range(n-1):\n",
    "    for j in range(n-i-1):\n",
    "        print(' ',end=' ')\n",
    "    for k in range(i+1):\n",
    "        print(\"*\",end=\" \")\n",
    "    for l in range(i):\n",
    "        print(\"*\",end=\" \")\n",
    "    print()\n",
    "for i in range(n):\n",
    "    for j in range(i):\n",
    "        print(\" \",end=\" \")\n",
    "    for k in range(n-i-1):\n",
    "        print('*',end=\" \")\n",
    "    for l in range(n-i):\n",
    "        print('*',end=\" \")\n",
    "    print()"
   ]
  },
  {
   "cell_type": "code",
   "execution_count": 13,
   "metadata": {},
   "outputs": [
    {
     "name": "stdout",
     "output_type": "stream",
     "text": [
      "        * \n",
      "      * * \n",
      "    * * * \n",
      "  * * * * \n",
      "* * * * * \n"
     ]
    }
   ],
   "source": [
    "# Right Angle Triangle\n",
    "for i in range(5):\n",
    "    for j in range(n-i-1): # print spaces\n",
    "        print(' ',end=' ')\n",
    "    for k in range(i+1):\n",
    "        print('*',end=\" \")\n",
    "    print() "
   ]
  },
  {
   "cell_type": "code",
   "execution_count": 15,
   "metadata": {},
   "outputs": [
    {
     "name": "stdout",
     "output_type": "stream",
     "text": [
      "* * * * * \n",
      "  * * * * \n",
      "    * * * \n",
      "      * * \n",
      "        * \n"
     ]
    }
   ],
   "source": [
    "# Right Side Triangle\n",
    "for i in range(n):\n",
    "    for j in range(i):\n",
    "        print(' ',end=\" \")\n",
    "    for k in range(n-i):\n",
    "        print('*',end=' ')\n",
    "\n",
    "\n",
    "    print()"
   ]
  },
  {
   "cell_type": "code",
   "execution_count": 26,
   "metadata": {},
   "outputs": [
    {
     "name": "stdout",
     "output_type": "stream",
     "text": [
      "        * \n",
      "      *   * \n",
      "    *       * \n",
      "  *           * \n",
      "* * * * * * * * * \n"
     ]
    }
   ],
   "source": [
    "\n",
    "for j in range(n-i):\n",
    "    print(' ',end=\" \")\n",
    "\n",
    "for k in range(2*i+1):\n",
    "    if k==0:\n",
    "            print(\"*\",end=\" \")\n",
    "    elif k==2*i:\n",
    "            print(\"*\",end=\" \")\n",
    "    elif i==n-1:\n",
    "            print(\"*\",end=\" \")\n",
    "    else:\n",
    "            print(\" \",end=\" \")\n",
    "print()\n",
    "\n",
    "        \n",
    "\n"
   ]
  },
  {
   "cell_type": "code",
   "execution_count": 137,
   "metadata": {},
   "outputs": [
    {
     "name": "stdout",
     "output_type": "stream",
     "text": [
      "* * * * * * * * * * * \n",
      "  *               * \n",
      "    *           * \n",
      "      *       * \n",
      "        *   * \n",
      "          * \n"
     ]
    }
   ],
   "source": [
    "\n",
    "for i in range(n+1):  \n",
    "    for j in range(i):  \n",
    "        print(\" \", end=\" \")  \n",
    "  \n",
    "    for j in range((n * 2 - (2 *i-1))):  \n",
    "        if i == 0 or j == 0 or j ==(n * 2 - ( 2 * i)):  \n",
    "            print(\"*\", end=\" \")  \n",
    "        else:  \n",
    "            print(\" \", end=\" \")  \n",
    "    print()  \n",
    "  \n"
   ]
  },
  {
   "cell_type": "code",
   "execution_count": 144,
   "metadata": {},
   "outputs": [
    {
     "name": "stdout",
     "output_type": "stream",
     "text": [
      "1 \n",
      "1 2 \n",
      "1 2 3 \n",
      "1 2 3 4 \n",
      "1 2 3 4 5 \n"
     ]
    }
   ],
   "source": [
    "# number pattern\n",
    "for i in range(n):\n",
    "    num=1\n",
    "    for j in range(i+1):\n",
    "        print(num,end=\" \")\n",
    "        num+=1\n",
    "    print()"
   ]
  },
  {
   "cell_type": "code",
   "execution_count": 150,
   "metadata": {},
   "outputs": [
    {
     "name": "stdout",
     "output_type": "stream",
     "text": [
      "  * * *   \n",
      "*       * \n",
      "*       * \n",
      "* * * * * \n",
      "*       * \n",
      "*       * \n",
      "*       * \n"
     ]
    }
   ],
   "source": [
    "# Print char 'A'\n",
    "for i in range(7):\n",
    "    for j in range(5):\n",
    "        if i==0 and j in {1,2,3}:\n",
    "            print(\"*\",end=\" \")\n",
    "        elif i in {1,2,3,4,5,6} and j in {0,4}:\n",
    "            print(\"*\",end=\" \")\n",
    "        elif i==3:\n",
    "            print(\"*\",end=\" \")\n",
    "        else:\n",
    "            print(' ',end=\" \")\n",
    "    print()\n"
   ]
  },
  {
   "cell_type": "code",
   "execution_count": null,
   "metadata": {},
   "outputs": [],
   "source": []
  }
 ],
 "metadata": {
  "kernelspec": {
   "display_name": "Python 3",
   "language": "python",
   "name": "python3"
  },
  "language_info": {
   "codemirror_mode": {
    "name": "ipython",
    "version": 3
   },
   "file_extension": ".py",
   "mimetype": "text/x-python",
   "name": "python",
   "nbconvert_exporter": "python",
   "pygments_lexer": "ipython3",
   "version": "3.13.1"
  }
 },
 "nbformat": 4,
 "nbformat_minor": 2
}
