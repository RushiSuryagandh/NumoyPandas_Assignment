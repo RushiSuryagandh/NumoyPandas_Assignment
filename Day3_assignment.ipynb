{
 "cells": [
  {
   "cell_type": "code",
   "execution_count": 1,
   "metadata": {},
   "outputs": [],
   "source": [
    "# demo push"
   ]
  },
  {
   "cell_type": "code",
   "execution_count": 2,
   "metadata": {},
   "outputs": [],
   "source": [
    "import pandas as pd\n",
    "import numpy as np\n",
    "import timeit\n",
    "import random\n",
    "import datetime as dt\n",
    "\n",
    "\n",
    "import re\n"
   ]
  },
  {
   "cell_type": "code",
   "execution_count": null,
   "metadata": {},
   "outputs": [
    {
     "name": "stdout",
     "output_type": "stream",
     "text": [
      "Requirement already satisfied: matplotlib in c:\\users\\rushikeshsuryagandh\\appdata\\local\\programs\\python\\python313\\lib\\site-packages (3.10.0)\n",
      "Requirement already satisfied: contourpy>=1.0.1 in c:\\users\\rushikeshsuryagandh\\appdata\\local\\programs\\python\\python313\\lib\\site-packages (from matplotlib) (1.3.1)\n",
      "Requirement already satisfied: cycler>=0.10 in c:\\users\\rushikeshsuryagandh\\appdata\\local\\programs\\python\\python313\\lib\\site-packages (from matplotlib) (0.12.1)\n",
      "Requirement already satisfied: fonttools>=4.22.0 in c:\\users\\rushikeshsuryagandh\\appdata\\local\\programs\\python\\python313\\lib\\site-packages (from matplotlib) (4.55.6)\n",
      "Requirement already satisfied: kiwisolver>=1.3.1 in c:\\users\\rushikeshsuryagandh\\appdata\\local\\programs\\python\\python313\\lib\\site-packages (from matplotlib) (1.4.8)\n",
      "Requirement already satisfied: numpy>=1.23 in c:\\users\\rushikeshsuryagandh\\appdata\\local\\programs\\python\\python313\\lib\\site-packages (from matplotlib) (2.2.2)\n",
      "Requirement already satisfied: packaging>=20.0 in c:\\users\\rushikeshsuryagandh\\appdata\\roaming\\python\\python313\\site-packages (from matplotlib) (24.2)\n",
      "Requirement already satisfied: pillow>=8 in c:\\users\\rushikeshsuryagandh\\appdata\\local\\programs\\python\\python313\\lib\\site-packages (from matplotlib) (11.1.0)\n",
      "Requirement already satisfied: pyparsing>=2.3.1 in c:\\users\\rushikeshsuryagandh\\appdata\\local\\programs\\python\\python313\\lib\\site-packages (from matplotlib) (3.2.1)\n",
      "Requirement already satisfied: python-dateutil>=2.7 in c:\\users\\rushikeshsuryagandh\\appdata\\roaming\\python\\python313\\site-packages (from matplotlib) (2.9.0.post0)\n",
      "Requirement already satisfied: six>=1.5 in c:\\users\\rushikeshsuryagandh\\appdata\\roaming\\python\\python313\\site-packages (from python-dateutil>=2.7->matplotlib) (1.17.0)\n",
      "Note: you may need to restart the kernel to use updated packages.\n"
     ]
    }
   ],
   "source": [
    "# pip install matplotlib"
   ]
  },
  {
   "cell_type": "markdown",
   "metadata": {},
   "source": [
    "# Question 1\n",
    "###### Write a Python script that generate 100 million (100000000) random numbers and add \n",
    "###### them all together with and without use of numpy  and Check how long it takes to \n",
    "###### execute in both the scenarios? "
   ]
  },
  {
   "cell_type": "code",
   "execution_count": 3,
   "metadata": {},
   "outputs": [
    {
     "name": "stdout",
     "output_type": "stream",
     "text": [
      "8.02 ms ± 516 μs per loop (mean ± std. dev. of 7 runs, 100 loops each)\n"
     ]
    }
   ],
   "source": [
    "%%timeit\n",
    "def sum_numbers_without_numpy(num):\n",
    "    random_numbers=[random.random() for _ in range(num)]\n",
    "    total_sum=sum(random_numbers)\n",
    "    return total_sum\n",
    "sum_numbers_without_numpy(100000)"
   ]
  },
  {
   "cell_type": "code",
   "execution_count": 4,
   "metadata": {},
   "outputs": [
    {
     "name": "stdout",
     "output_type": "stream",
     "text": [
      "8.47 ms ± 88.5 μs per loop (mean ± std. dev. of 7 runs, 100 loops each)\n"
     ]
    }
   ],
   "source": [
    "%%timeit\n",
    "def sum_numbers_with_numpy(num):\n",
    "    random_numbers=np.random.random(num)\n",
    "    total_sum=sum(random_numbers)\n",
    "    return total_sum\n",
    "sum_numbers_with_numpy(100000)\n"
   ]
  },
  {
   "cell_type": "markdown",
   "metadata": {},
   "source": [
    "## Question 2\n",
    "###### Write a Python script that generate matrix of (10000, 10000) and transpose it. "
   ]
  },
  {
   "cell_type": "code",
   "execution_count": 5,
   "metadata": {},
   "outputs": [
    {
     "name": "stdout",
     "output_type": "stream",
     "text": [
      "Length of matrix = 10000\n",
      "[4 1 4 ... 3 2 4] [2 2 4 ... 1 4 0] [4 4 3 ... 3 2 4]\n",
      "Dimension of matrix=2\n",
      "[[4 4 2 ... 3 1 4]\n",
      " [1 4 2 ... 3 2 4]\n",
      " [4 1 3 ... 4 1 3]\n",
      " ...\n",
      " [3 0 2 ... 1 2 3]\n",
      " [2 1 1 ... 3 4 2]\n",
      " [4 2 4 ... 2 3 4]]\n"
     ]
    }
   ],
   "source": [
    "matrix=np.random.randint(5,size=(10000,10000))\n",
    "print(f'Length of matrix = {len(matrix)}')\n",
    "print(matrix[0],matrix[601],matrix[9999])\n",
    "print(f'Dimension of matrix={matrix.ndim}')\n",
    "\n",
    "# Transpose of matrix\n",
    "print(matrix.transpose())"
   ]
  },
  {
   "cell_type": "markdown",
   "metadata": {},
   "source": [
    "## Question 3\n",
    "###### Load the dataset “Online_Retail” provided into pandas dataframe.   \n",
    "###### o Process any missing values. Create descriptive statistics.(Use of numpy)   \n",
    "###### o Plot time series of price using pandas functionality. Filter transactions based on date. \n",
    "###### o Plot time series chart of price where quantity less than 1000 and in year 2011. \n",
    "###### o Calculate total amount of price in pivot table based on product description. \n",
    "###### o Which country has highest price and for which product? \n",
    "###### o Calculate top 10 products with minimum price and in year 2010. "
   ]
  },
  {
   "cell_type": "code",
   "execution_count": 6,
   "metadata": {},
   "outputs": [],
   "source": [
    "# Load the Online_Retail Dataset\n",
    "df=pd.read_csv('Online_Retail.csv')"
   ]
  },
  {
   "cell_type": "code",
   "execution_count": 7,
   "metadata": {},
   "outputs": [
    {
     "name": "stdout",
     "output_type": "stream",
     "text": [
      "<class 'pandas.core.frame.DataFrame'>\n",
      "RangeIndex: 437885 entries, 0 to 437884\n",
      "Data columns (total 8 columns):\n",
      " #   Column       Non-Null Count   Dtype  \n",
      "---  ------       --------------   -----  \n",
      " 0   Invoice      437885 non-null  object \n",
      " 1   StockCode    437885 non-null  object \n",
      " 2   Description  435162 non-null  object \n",
      " 3   Quantity     437885 non-null  int64  \n",
      " 4   InvoiceDate  437885 non-null  object \n",
      " 5   Price        437885 non-null  float64\n",
      " 6   Customer ID  327110 non-null  float64\n",
      " 7   Country      437885 non-null  object \n",
      "dtypes: float64(2), int64(1), object(5)\n",
      "memory usage: 26.7+ MB\n"
     ]
    }
   ],
   "source": [
    "# check information\n",
    "df.info()\n"
   ]
  },
  {
   "cell_type": "code",
   "execution_count": 8,
   "metadata": {},
   "outputs": [
    {
     "data": {
      "text/plain": [
       "Invoice             0\n",
       "StockCode           0\n",
       "Description      2723\n",
       "Quantity            0\n",
       "InvoiceDate         0\n",
       "Price               0\n",
       "Customer ID    110775\n",
       "Country             0\n",
       "dtype: int64"
      ]
     },
     "execution_count": 8,
     "metadata": {},
     "output_type": "execute_result"
    }
   ],
   "source": [
    "df.isnull().sum()"
   ]
  },
  {
   "cell_type": "code",
   "execution_count": 9,
   "metadata": {},
   "outputs": [],
   "source": [
    "# fill missing values\n",
    "df.fillna(0,inplace=True)"
   ]
  },
  {
   "cell_type": "code",
   "execution_count": 10,
   "metadata": {},
   "outputs": [
    {
     "name": "stdout",
     "output_type": "stream",
     "text": [
      "            Quantity          Price    Customer ID\n",
      "count  437885.000000  437885.000000  437885.000000\n",
      "mean       10.063069       4.955867   11436.712984\n",
      "std       184.048278     128.396016    6815.234178\n",
      "min    -74215.000000  -53594.360000       0.000000\n",
      "25%         1.000000       1.250000       0.000000\n",
      "50%         3.000000       2.100000   14396.000000\n",
      "75%        10.000000       4.250000   16253.000000\n",
      "max     74215.000000   25111.090000   18287.000000\n"
     ]
    }
   ],
   "source": [
    "# Create a descriptive statistics\n",
    "des_stat=df.describe()\n",
    "print(des_stat)"
   ]
  },
  {
   "cell_type": "code",
   "execution_count": 11,
   "metadata": {},
   "outputs": [
    {
     "data": {
      "text/html": [
       "<div>\n",
       "<style scoped>\n",
       "    .dataframe tbody tr th:only-of-type {\n",
       "        vertical-align: middle;\n",
       "    }\n",
       "\n",
       "    .dataframe tbody tr th {\n",
       "        vertical-align: top;\n",
       "    }\n",
       "\n",
       "    .dataframe thead th {\n",
       "        text-align: right;\n",
       "    }\n",
       "</style>\n",
       "<table border=\"1\" class=\"dataframe\">\n",
       "  <thead>\n",
       "    <tr style=\"text-align: right;\">\n",
       "      <th></th>\n",
       "      <th>Invoice</th>\n",
       "      <th>StockCode</th>\n",
       "      <th>Description</th>\n",
       "      <th>Quantity</th>\n",
       "      <th>InvoiceDate</th>\n",
       "      <th>Price</th>\n",
       "      <th>Customer ID</th>\n",
       "      <th>Country</th>\n",
       "    </tr>\n",
       "  </thead>\n",
       "  <tbody>\n",
       "    <tr>\n",
       "      <th>0</th>\n",
       "      <td>489434</td>\n",
       "      <td>85048</td>\n",
       "      <td>15CM CHRISTMAS GLASS BALL 20 LIGHTS</td>\n",
       "      <td>12</td>\n",
       "      <td>01-12-2009 07:45</td>\n",
       "      <td>6.95</td>\n",
       "      <td>13085.0</td>\n",
       "      <td>United Kingdom</td>\n",
       "    </tr>\n",
       "    <tr>\n",
       "      <th>1</th>\n",
       "      <td>489434</td>\n",
       "      <td>79323P</td>\n",
       "      <td>PINK CHERRY LIGHTS</td>\n",
       "      <td>12</td>\n",
       "      <td>01-12-2009 07:45</td>\n",
       "      <td>6.75</td>\n",
       "      <td>13085.0</td>\n",
       "      <td>United Kingdom</td>\n",
       "    </tr>\n",
       "    <tr>\n",
       "      <th>2</th>\n",
       "      <td>489434</td>\n",
       "      <td>79323W</td>\n",
       "      <td>WHITE CHERRY LIGHTS</td>\n",
       "      <td>12</td>\n",
       "      <td>01-12-2009 07:45</td>\n",
       "      <td>6.75</td>\n",
       "      <td>13085.0</td>\n",
       "      <td>United Kingdom</td>\n",
       "    </tr>\n",
       "    <tr>\n",
       "      <th>3</th>\n",
       "      <td>489434</td>\n",
       "      <td>22041</td>\n",
       "      <td>RECORD FRAME 7\" SINGLE SIZE</td>\n",
       "      <td>48</td>\n",
       "      <td>01-12-2009 07:45</td>\n",
       "      <td>2.10</td>\n",
       "      <td>13085.0</td>\n",
       "      <td>United Kingdom</td>\n",
       "    </tr>\n",
       "    <tr>\n",
       "      <th>4</th>\n",
       "      <td>489434</td>\n",
       "      <td>21232</td>\n",
       "      <td>STRAWBERRY CERAMIC TRINKET BOX</td>\n",
       "      <td>24</td>\n",
       "      <td>01-12-2009 07:45</td>\n",
       "      <td>1.25</td>\n",
       "      <td>13085.0</td>\n",
       "      <td>United Kingdom</td>\n",
       "    </tr>\n",
       "    <tr>\n",
       "      <th>...</th>\n",
       "      <td>...</td>\n",
       "      <td>...</td>\n",
       "      <td>...</td>\n",
       "      <td>...</td>\n",
       "      <td>...</td>\n",
       "      <td>...</td>\n",
       "      <td>...</td>\n",
       "      <td>...</td>\n",
       "    </tr>\n",
       "    <tr>\n",
       "      <th>437880</th>\n",
       "      <td>C553031</td>\n",
       "      <td>22300</td>\n",
       "      <td>COFFEE MUG DOG + BALL DESIGN</td>\n",
       "      <td>-1</td>\n",
       "      <td>12-05-2011 19:43</td>\n",
       "      <td>2.55</td>\n",
       "      <td>13908.0</td>\n",
       "      <td>United Kingdom</td>\n",
       "    </tr>\n",
       "    <tr>\n",
       "      <th>437881</th>\n",
       "      <td>C553031</td>\n",
       "      <td>21533</td>\n",
       "      <td>RETROSPOT LARGE MILK JUG</td>\n",
       "      <td>-3</td>\n",
       "      <td>12-05-2011 19:43</td>\n",
       "      <td>4.95</td>\n",
       "      <td>13908.0</td>\n",
       "      <td>United Kingdom</td>\n",
       "    </tr>\n",
       "    <tr>\n",
       "      <th>437882</th>\n",
       "      <td>C553031</td>\n",
       "      <td>21240</td>\n",
       "      <td>BLUE POLKADOT CUP</td>\n",
       "      <td>-3</td>\n",
       "      <td>12-05-2011 19:43</td>\n",
       "      <td>0.85</td>\n",
       "      <td>13908.0</td>\n",
       "      <td>United Kingdom</td>\n",
       "    </tr>\n",
       "    <tr>\n",
       "      <th>437883</th>\n",
       "      <td>C553032</td>\n",
       "      <td>22891</td>\n",
       "      <td>TEA FOR ONE POLKADOT</td>\n",
       "      <td>-3</td>\n",
       "      <td>12-05-2011 19:44</td>\n",
       "      <td>4.25</td>\n",
       "      <td>13320.0</td>\n",
       "      <td>United Kingdom</td>\n",
       "    </tr>\n",
       "    <tr>\n",
       "      <th>437884</th>\n",
       "      <td>C553032</td>\n",
       "      <td>22631</td>\n",
       "      <td>CIRCUS PARADE LUNCH BOX</td>\n",
       "      <td>-3</td>\n",
       "      <td>12-05-2011 19:44</td>\n",
       "      <td>1.95</td>\n",
       "      <td>13320.0</td>\n",
       "      <td>United Kingdom</td>\n",
       "    </tr>\n",
       "  </tbody>\n",
       "</table>\n",
       "<p>437885 rows × 8 columns</p>\n",
       "</div>"
      ],
      "text/plain": [
       "        Invoice StockCode                          Description  Quantity  \\\n",
       "0        489434     85048  15CM CHRISTMAS GLASS BALL 20 LIGHTS        12   \n",
       "1        489434    79323P                   PINK CHERRY LIGHTS        12   \n",
       "2        489434    79323W                  WHITE CHERRY LIGHTS        12   \n",
       "3        489434     22041         RECORD FRAME 7\" SINGLE SIZE         48   \n",
       "4        489434     21232       STRAWBERRY CERAMIC TRINKET BOX        24   \n",
       "...         ...       ...                                  ...       ...   \n",
       "437880  C553031     22300         COFFEE MUG DOG + BALL DESIGN        -1   \n",
       "437881  C553031     21533             RETROSPOT LARGE MILK JUG        -3   \n",
       "437882  C553031     21240                    BLUE POLKADOT CUP        -3   \n",
       "437883  C553032     22891                 TEA FOR ONE POLKADOT        -3   \n",
       "437884  C553032     22631             CIRCUS PARADE LUNCH BOX         -3   \n",
       "\n",
       "             InvoiceDate  Price  Customer ID         Country  \n",
       "0       01-12-2009 07:45   6.95      13085.0  United Kingdom  \n",
       "1       01-12-2009 07:45   6.75      13085.0  United Kingdom  \n",
       "2       01-12-2009 07:45   6.75      13085.0  United Kingdom  \n",
       "3       01-12-2009 07:45   2.10      13085.0  United Kingdom  \n",
       "4       01-12-2009 07:45   1.25      13085.0  United Kingdom  \n",
       "...                  ...    ...          ...             ...  \n",
       "437880  12-05-2011 19:43   2.55      13908.0  United Kingdom  \n",
       "437881  12-05-2011 19:43   4.95      13908.0  United Kingdom  \n",
       "437882  12-05-2011 19:43   0.85      13908.0  United Kingdom  \n",
       "437883  12-05-2011 19:44   4.25      13320.0  United Kingdom  \n",
       "437884  12-05-2011 19:44   1.95      13320.0  United Kingdom  \n",
       "\n",
       "[437885 rows x 8 columns]"
      ]
     },
     "execution_count": 11,
     "metadata": {},
     "output_type": "execute_result"
    }
   ],
   "source": [
    "df"
   ]
  },
  {
   "cell_type": "code",
   "execution_count": 12,
   "metadata": {},
   "outputs": [],
   "source": [
    "# Calculate total amount of price in pivot table based on product description. "
   ]
  },
  {
   "cell_type": "code",
   "execution_count": 13,
   "metadata": {},
   "outputs": [],
   "source": [
    "df['TotalAmount']=df['Quantity']*df['Price']"
   ]
  },
  {
   "cell_type": "code",
   "execution_count": 14,
   "metadata": {},
   "outputs": [
    {
     "data": {
      "text/html": [
       "<div>\n",
       "<style scoped>\n",
       "    .dataframe tbody tr th:only-of-type {\n",
       "        vertical-align: middle;\n",
       "    }\n",
       "\n",
       "    .dataframe tbody tr th {\n",
       "        vertical-align: top;\n",
       "    }\n",
       "\n",
       "    .dataframe thead th {\n",
       "        text-align: right;\n",
       "    }\n",
       "</style>\n",
       "<table border=\"1\" class=\"dataframe\">\n",
       "  <thead>\n",
       "    <tr style=\"text-align: right;\">\n",
       "      <th></th>\n",
       "      <th>Quantity</th>\n",
       "      <th>Price</th>\n",
       "      <th>TotalAmount</th>\n",
       "    </tr>\n",
       "  </thead>\n",
       "  <tbody>\n",
       "    <tr>\n",
       "      <th>0</th>\n",
       "      <td>12</td>\n",
       "      <td>6.95</td>\n",
       "      <td>83.40</td>\n",
       "    </tr>\n",
       "    <tr>\n",
       "      <th>1</th>\n",
       "      <td>12</td>\n",
       "      <td>6.75</td>\n",
       "      <td>81.00</td>\n",
       "    </tr>\n",
       "    <tr>\n",
       "      <th>2</th>\n",
       "      <td>12</td>\n",
       "      <td>6.75</td>\n",
       "      <td>81.00</td>\n",
       "    </tr>\n",
       "    <tr>\n",
       "      <th>3</th>\n",
       "      <td>48</td>\n",
       "      <td>2.10</td>\n",
       "      <td>100.80</td>\n",
       "    </tr>\n",
       "    <tr>\n",
       "      <th>4</th>\n",
       "      <td>24</td>\n",
       "      <td>1.25</td>\n",
       "      <td>30.00</td>\n",
       "    </tr>\n",
       "    <tr>\n",
       "      <th>...</th>\n",
       "      <td>...</td>\n",
       "      <td>...</td>\n",
       "      <td>...</td>\n",
       "    </tr>\n",
       "    <tr>\n",
       "      <th>437880</th>\n",
       "      <td>-1</td>\n",
       "      <td>2.55</td>\n",
       "      <td>-2.55</td>\n",
       "    </tr>\n",
       "    <tr>\n",
       "      <th>437881</th>\n",
       "      <td>-3</td>\n",
       "      <td>4.95</td>\n",
       "      <td>-14.85</td>\n",
       "    </tr>\n",
       "    <tr>\n",
       "      <th>437882</th>\n",
       "      <td>-3</td>\n",
       "      <td>0.85</td>\n",
       "      <td>-2.55</td>\n",
       "    </tr>\n",
       "    <tr>\n",
       "      <th>437883</th>\n",
       "      <td>-3</td>\n",
       "      <td>4.25</td>\n",
       "      <td>-12.75</td>\n",
       "    </tr>\n",
       "    <tr>\n",
       "      <th>437884</th>\n",
       "      <td>-3</td>\n",
       "      <td>1.95</td>\n",
       "      <td>-5.85</td>\n",
       "    </tr>\n",
       "  </tbody>\n",
       "</table>\n",
       "<p>437885 rows × 3 columns</p>\n",
       "</div>"
      ],
      "text/plain": [
       "        Quantity  Price  TotalAmount\n",
       "0             12   6.95        83.40\n",
       "1             12   6.75        81.00\n",
       "2             12   6.75        81.00\n",
       "3             48   2.10       100.80\n",
       "4             24   1.25        30.00\n",
       "...          ...    ...          ...\n",
       "437880        -1   2.55        -2.55\n",
       "437881        -3   4.95       -14.85\n",
       "437882        -3   0.85        -2.55\n",
       "437883        -3   4.25       -12.75\n",
       "437884        -3   1.95        -5.85\n",
       "\n",
       "[437885 rows x 3 columns]"
      ]
     },
     "execution_count": 14,
     "metadata": {},
     "output_type": "execute_result"
    }
   ],
   "source": [
    "df[['Quantity','Price','TotalAmount']]"
   ]
  },
  {
   "cell_type": "code",
   "execution_count": 15,
   "metadata": {},
   "outputs": [
    {
     "data": {
      "text/plain": [
       "0          83.40\n",
       "1          81.00\n",
       "2          81.00\n",
       "3         100.80\n",
       "4          30.00\n",
       "           ...  \n",
       "437880     -2.55\n",
       "437881    -14.85\n",
       "437882     -2.55\n",
       "437883    -12.75\n",
       "437884     -5.85\n",
       "Name: TotalAmount, Length: 437885, dtype: float64"
      ]
     },
     "execution_count": 15,
     "metadata": {},
     "output_type": "execute_result"
    }
   ],
   "source": [
    "df['TotalAmount']"
   ]
  },
  {
   "cell_type": "code",
   "execution_count": 16,
   "metadata": {},
   "outputs": [
    {
     "name": "stderr",
     "output_type": "stream",
     "text": [
      "C:\\Users\\RushikeshSuryagandh\\AppData\\Local\\Temp\\ipykernel_42264\\644185312.py:1: FutureWarning: The provided callable <built-in function sum> is currently using DataFrameGroupBy.sum. In a future version of pandas, the provided callable will be used directly. To keep current behavior pass the string \"sum\" instead.\n",
      "  table=df.pivot_table(values='TotalAmount',index='Description',aggfunc=sum)\n"
     ]
    }
   ],
   "source": [
    "table=df.pivot_table(values='TotalAmount',index='Description',aggfunc=sum)"
   ]
  },
  {
   "cell_type": "code",
   "execution_count": 17,
   "metadata": {},
   "outputs": [
    {
     "name": "stdout",
     "output_type": "stream",
     "text": [
      "                                     TotalAmount\n",
      "Description                                     \n",
      "0                                           0.00\n",
      "  DOORMAT UNION JACK GUNS AND ROSES      1206.81\n",
      " 3 STRIPEY MICE FELTCRAFT                1328.38\n",
      " 4 PURPLE FLOCK DINNER CANDLES             73.87\n",
      " ANIMAL STICKERS                           80.85\n",
      "...                                          ...\n",
      "wrong ctn size                              0.00\n",
      "wrong invc                                  0.00\n",
      "wrongly sold (22719) barcode                0.00\n",
      "wrongly sold as sets                        0.00\n",
      "wrongly sold sets                           0.00\n",
      "\n",
      "[4808 rows x 1 columns]\n"
     ]
    }
   ],
   "source": [
    "print(table)"
   ]
  },
  {
   "cell_type": "code",
   "execution_count": 18,
   "metadata": {},
   "outputs": [
    {
     "name": "stdout",
     "output_type": "stream",
     "text": [
      "Country_having_maximum_price:United Kingdom\n",
      " Price:25111.09 \n",
      " Description:Manual\n",
      "Country_having_maximum_price:United Kingdom\n",
      " Price:-53594.36\n",
      " Description:Adjust bad debt\n"
     ]
    }
   ],
   "source": [
    "# country having highest prize\n",
    "\"\"\"\n",
    "    select the price column from dataframe df[price],idxmax() - index of the maximum value , loc()- retrive the entire row\n",
    "\"\"\"\n",
    "max_price_of_row=df.loc[df['Price'].idxmax()]\n",
    "min_price_of_row=df.loc[df['Price'].idxmin()]\n",
    "print(f'Country_having_maximum_price:{max_price_of_row['Country']}\\n Price:{max_price_of_row['Price']} \\n Description:{max_price_of_row['Description']}')\n",
    "print(f'Country_having_maximum_price:{min_price_of_row['Country']}\\n Price:{min_price_of_row['Price']}\\n Description:{min_price_of_row['Description']}')\n"
   ]
  },
  {
   "cell_type": "code",
   "execution_count": 19,
   "metadata": {},
   "outputs": [],
   "source": [
    "# For getting a 2010 year we have to format the data\n",
    "df['InvoiceDate'] = pd.to_datetime(df['InvoiceDate'], format='%d-%m-%Y %H:%M')\n",
    "\n",
    " "
   ]
  },
  {
   "cell_type": "code",
   "execution_count": 20,
   "metadata": {},
   "outputs": [
    {
     "data": {
      "text/plain": [
       "0        2009-12-01 07:45:00\n",
       "1        2009-12-01 07:45:00\n",
       "2        2009-12-01 07:45:00\n",
       "3        2009-12-01 07:45:00\n",
       "4        2009-12-01 07:45:00\n",
       "                 ...        \n",
       "437880   2011-05-12 19:43:00\n",
       "437881   2011-05-12 19:43:00\n",
       "437882   2011-05-12 19:43:00\n",
       "437883   2011-05-12 19:44:00\n",
       "437884   2011-05-12 19:44:00\n",
       "Name: InvoiceDate, Length: 437885, dtype: datetime64[ns]"
      ]
     },
     "execution_count": 20,
     "metadata": {},
     "output_type": "execute_result"
    }
   ],
   "source": [
    "df['InvoiceDate']"
   ]
  },
  {
   "cell_type": "code",
   "execution_count": 21,
   "metadata": {},
   "outputs": [],
   "source": [
    "year_2010_data=df[df['InvoiceDate'].dt.year==2010]"
   ]
  },
  {
   "cell_type": "code",
   "execution_count": 22,
   "metadata": {},
   "outputs": [
    {
     "name": "stdout",
     "output_type": "stream",
     "text": [
      "        Invoice  StockCode Description  Quantity         InvoiceDate  \\\n",
      "241824  C512770          M      Manual        -1 2010-06-17 16:52:00   \n",
      "241827   512771          M      Manual         1 2010-06-17 16:53:00   \n",
      "264590  C537630  AMAZONFEE  AMAZON FEE        -1 2010-12-07 15:04:00   \n",
      "264591   537632  AMAZONFEE  AMAZON FEE         1 2010-12-07 15:08:00   \n",
      "265930  C537651  AMAZONFEE  AMAZON FEE        -1 2010-12-07 15:49:00   \n",
      "265576  C537644  AMAZONFEE  AMAZON FEE        -1 2010-12-07 15:34:00   \n",
      "135012  C502262          M      Manual        -1 2010-03-23 15:20:00   \n",
      "135013   502263          M      Manual         1 2010-03-23 15:22:00   \n",
      "135014  C502264          M      Manual        -1 2010-03-23 15:24:00   \n",
      "135015   502265          M      Manual         1 2010-03-23 15:28:00   \n",
      "\n",
      "           Price  Customer ID         Country  TotalAmount  \n",
      "241824  25111.09      17399.0  United Kingdom    -25111.09  \n",
      "241827  25111.09          0.0  United Kingdom     25111.09  \n",
      "264590  13541.33          0.0  United Kingdom    -13541.33  \n",
      "264591  13541.33          0.0  United Kingdom     13541.33  \n",
      "265930  13541.33          0.0  United Kingdom    -13541.33  \n",
      "265576  13474.79          0.0  United Kingdom    -13474.79  \n",
      "135012  10953.50      12918.0  United Kingdom    -10953.50  \n",
      "135013  10953.50      12918.0  United Kingdom     10953.50  \n",
      "135014  10953.50      12918.0  United Kingdom    -10953.50  \n",
      "135015  10953.50          0.0  United Kingdom     10953.50  \n"
     ]
    }
   ],
   "source": [
    "top_10_highest_price=year_2010_data.nlargest(10,'Price')\n",
    "print(top_10_highest_price)"
   ]
  },
  {
   "cell_type": "code",
   "execution_count": 23,
   "metadata": {},
   "outputs": [
    {
     "name": "stdout",
     "output_type": "stream",
     "text": [
      "        Invoice StockCode      Description  Quantity         InvoiceDate  \\\n",
      "179403  A506401         B  Adjust bad debt         1 2010-04-29 13:36:00   \n",
      "45714    493494     21231                0       -84 2010-01-04 14:56:00   \n",
      "45715    493508     20887                0         9 2010-01-04 15:08:00   \n",
      "45716    493510    40046C                0         7 2010-01-04 15:08:00   \n",
      "45717    493509     21558                0         7 2010-01-04 15:08:00   \n",
      "45718    493513     47009                0         3 2010-01-04 15:09:00   \n",
      "45719    493511    84753A                0        89 2010-01-04 15:09:00   \n",
      "45720    493512     37509                0         3 2010-01-04 15:09:00   \n",
      "45721    493514     20911                0         2 2010-01-04 15:09:00   \n",
      "45722    493516     35990                0         2 2010-01-04 15:11:00   \n",
      "\n",
      "           Price  Customer ID         Country  TotalAmount  \n",
      "179403 -53594.36          0.0  United Kingdom    -53594.36  \n",
      "45714       0.00          0.0  United Kingdom        -0.00  \n",
      "45715       0.00          0.0  United Kingdom         0.00  \n",
      "45716       0.00          0.0  United Kingdom         0.00  \n",
      "45717       0.00          0.0  United Kingdom         0.00  \n",
      "45718       0.00          0.0  United Kingdom         0.00  \n",
      "45719       0.00          0.0  United Kingdom         0.00  \n",
      "45720       0.00          0.0  United Kingdom         0.00  \n",
      "45721       0.00          0.0  United Kingdom         0.00  \n",
      "45722       0.00          0.0  United Kingdom         0.00  \n"
     ]
    }
   ],
   "source": [
    "top_10_highest_price=year_2010_data.nsmallest(10,'Price')\n",
    "print(top_10_highest_price)"
   ]
  },
  {
   "cell_type": "code",
   "execution_count": 24,
   "metadata": {},
   "outputs": [
    {
     "data": {
      "text/plain": [
       "<Axes: title={'center': 'Time Series of Price'}, xlabel='InvoiceDate'>"
      ]
     },
     "execution_count": 24,
     "metadata": {},
     "output_type": "execute_result"
    },
    {
     "data": {
      "image/png": "[encoded data removed]",
      "text/plain": [
       "<Figure size 640x480 with 1 Axes>"
      ]
     },
     "metadata": {},
     "output_type": "display_data"
    }
   ],
   "source": [
    "# Filter the DataFrame for rows where 'Quantity' is less than 1000 and 'InvoiceDate' is in the year 2011\n",
    "new_dataframe=df[(df[\"Quantity\"]<1000) & (df[\"InvoiceDate\"].dt.year==2011)]\n",
    " \n",
    "# Set the 'InvoiceDate' column as the index of the filtered DataFrame\n",
    "new_dataframe.set_index(\"InvoiceDate\",inplace=True)\n",
    " \n",
    "# Plot the first 15 rows of the 'Price' column as a bar chart\n",
    "# 'x' and 'y' parameters are not needed here as the index is already set to 'InvoiceDate'\n",
    "new_dataframe.head(5)[\"Price\"].plot(title=\"Time Series of Price\",kind=\"bar\")"
   ]
  },
  {
   "cell_type": "code",
   "execution_count": 25,
   "metadata": {},
   "outputs": [
    {
     "data": {
      "text/plain": [
       "<Axes: title={'center': 'Time Series of Price'}, xlabel='InvoiceDate'>"
      ]
     },
     "execution_count": 25,
     "metadata": {},
     "output_type": "execute_result"
    },
    {
     "data": {
      "image/png": "[encoded data removed]",
      "text/plain": [
       "<Figure size 640x480 with 1 Axes>"
      ]
     },
     "metadata": {},
     "output_type": "display_data"
    }
   ],
   "source": [
    "start_date = \"2009-12-01\"   # The start date\n",
    "end_date = \"2009-12-02\"     # The end date\n",
    "df_filtered=df[(df[\"InvoiceDate\"] >= start_date) & (df[\"InvoiceDate\"]<=end_date)]   # storing only the dates between start and end date\n",
    " \n",
    "# Set the 'InvoiceDate' column as the index of the DataFrame\n",
    "# This is useful for time series analysis and operations that require date-based indexing\n",
    "df_filtered.set_index(\"InvoiceDate\",inplace=True)  \n",
    " \n",
    "# Plot the first 20 rows of the 'Price' column as a bar chart\n",
    "# 'x' and 'y' parameters are not needed here as the index is already set to 'InvoiceDate'\n",
    "df_filtered.head(20)[\"Price\"].plot(x=\"InvoiceDate\", y=\"Price\",title=\"Time Series of Price\",kind=\"bar\")"
   ]
  },
  {
   "cell_type": "markdown",
   "metadata": {},
   "source": [
    "## Question 4\n",
    "###### Write python program to extract email address from dataframe column. Please use following sample dataframe."
   ]
  },
  {
   "cell_type": "code",
   "execution_count": 26,
   "metadata": {},
   "outputs": [],
   "source": [
    "# Extract Email address from dataframe column\n",
    "data={\"Company Name\": [\"ABC Inc.\", \"XYZ Corporation\", \"Tech Solutions Ltd.\", \"Global Services LLC\", \"Innovative Ventures\"],\n",
    " \"Description\": [\"Contact us rushi@gmail.com at info@abcinc.com for more information. \",\n",
    " \"For inquiries, email us at contact@xyzcorp.com.\",\n",
    " \"Tech Solutions Ltd. provides support via support@techsolutions.com.\",\n",
    " \"Reach out to us at info@globalservicesllc.net for business inquiries.\",\n",
    " \"Email us at hello@innovativeventures.org for partnership opportunities.\"\n",
    "]}\n"
   ]
  },
  {
   "cell_type": "code",
   "execution_count": 27,
   "metadata": {},
   "outputs": [
    {
     "name": "stdout",
     "output_type": "stream",
     "text": [
      "          Company Name                                        Description\n",
      "0             ABC Inc.  Contact us rushi@gmail.com at info@abcinc.com ...\n",
      "1      XYZ Corporation    For inquiries, email us at contact@xyzcorp.com.\n",
      "2  Tech Solutions Ltd.  Tech Solutions Ltd. provides support via suppo...\n",
      "3  Global Services LLC  Reach out to us at info@globalservicesllc.net ...\n",
      "4  Innovative Ventures  Email us at hello@innovativeventures.org for p...\n"
     ]
    }
   ],
   "source": [
    "# Import re model\n",
    "# create a dataframe\n",
    "email_df=pd.DataFrame(data)\n",
    "print(email_df)"
   ]
  },
  {
   "cell_type": "code",
   "execution_count": 28,
   "metadata": {},
   "outputs": [
    {
     "name": "stdout",
     "output_type": "stream",
     "text": [
      "0    [rushi@gmail.com, info@abcinc.com]\n",
      "1                [contact@xyzcorp.com.]\n",
      "2          [support@techsolutions.com.]\n",
      "3          [info@globalservicesllc.net]\n",
      "4        [hello@innovativeventures.org]\n",
      "Name: Emails, dtype: object\n"
     ]
    },
    {
     "name": "stderr",
     "output_type": "stream",
     "text": [
      "<>:3: SyntaxWarning: invalid escape sequence '\\w'\n",
      "<>:3: SyntaxWarning: invalid escape sequence '\\w'\n",
      "C:\\Users\\RushikeshSuryagandh\\AppData\\Local\\Temp\\ipykernel_42264\\1327711806.py:3: SyntaxWarning: invalid escape sequence '\\w'\n",
      "  \"\"\"Take a string as a input and use re.findall() method to search\n"
     ]
    }
   ],
   "source": [
    "def get_email(text):\n",
    "    \n",
    "    \"\"\"Take a string as a input and use re.findall() method to search \n",
    "       [\\w\\.-]+  - match the one or more word charecters(\\w),dots(.) and (-) before the @ \n",
    "       @ - match the @ symbol\n",
    "       [\\w\\.-]+  - match the one or more word charecters(\\w),dots(.) and (-) after the @ \n",
    "    Args:\n",
    "        text (str): contails a string \n",
    "\n",
    "    Returns:\n",
    "      list  : all occurences of email addresses in string\n",
    "    \"\"\"\n",
    "    return re.findall(r'[\\w\\.-]+@[\\w\\.-]+',text)\n",
    "email_df['Emails']=email_df['Description'].apply(get_email)\n",
    "print(email_df['Emails'])"
   ]
  },
  {
   "cell_type": "markdown",
   "metadata": {},
   "source": [
    "## Question 5\n",
    "###### Write function which takes string as input and returns dictionary that contains each \n",
    "###### word and its frequency. Take input from user and use regex for matching patterns \n",
    "###### E.g text = \"Hello world, hello python. Python is a programming language.\""
   ]
  },
  {
   "cell_type": "code",
   "execution_count": 29,
   "metadata": {},
   "outputs": [
    {
     "name": "stdout",
     "output_type": "stream",
     "text": [
      "{'hello': 2, 'world': 1, 'python': 2, 'is': 1, 'a': 1, 'programming': 1, 'language': 1}\n"
     ]
    },
    {
     "name": "stderr",
     "output_type": "stream",
     "text": [
      "<>:4: SyntaxWarning: invalid escape sequence '\\w'\n",
      "<>:4: SyntaxWarning: invalid escape sequence '\\w'\n",
      "C:\\Users\\RushikeshSuryagandh\\AppData\\Local\\Temp\\ipykernel_42264\\2695945725.py:4: SyntaxWarning: invalid escape sequence '\\w'\n",
      "  \"\"\"Print the count of each word and store it in ditionary using regular ecpressions\n"
     ]
    }
   ],
   "source": [
    "# word frequency counter using regx\n",
    "text=' Hello world , hello python,Python is a programming language'\n",
    "def word_frequency_counter(text):\n",
    "    \"\"\"Print the count of each word and store it in ditionary using regular ecpressions\n",
    "    create a emapty dictionary to store a count , \\b - matches word boundary , \\w+ - matches one or more word charecters , \\b - matches another word boundary\n",
    "\n",
    "    Args:\n",
    "        text (str): simple string to text the function\n",
    "\n",
    "    Returns:\n",
    "        dict: return dictionary having count of each word\n",
    "    \"\"\"\n",
    "    dict1={}\n",
    "    words=re.findall(r'\\b\\w+\\b',text.lower())\n",
    "    for word in words:\n",
    "        if word in dict1:\n",
    "            dict1[word]+=1\n",
    "        else:\n",
    "            dict1[word]=1\n",
    "    return dict1\n",
    "print(word_frequency_counter(text))"
   ]
  },
  {
   "cell_type": "code",
   "execution_count": null,
   "metadata": {},
   "outputs": [],
   "source": []
  }
 ],
 "metadata": {
  "kernelspec": {
   "display_name": "Python 3",
   "language": "python",
   "name": "python3"
  },
  "language_info": {
   "codemirror_mode": {
    "name": "ipython",
    "version": 3
   },
   "file_extension": ".py",
   "mimetype": "text/x-python",
   "name": "python",
   "nbconvert_exporter": "python",
   "pygments_lexer": "ipython3",
   "version": "3.13.1"
  }
 },
 "nbformat": 4,
 "nbformat_minor": 2
}
