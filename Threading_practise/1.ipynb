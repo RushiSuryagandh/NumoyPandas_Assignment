{
 "cells": [
  {
   "cell_type": "code",
   "execution_count": 40,
   "metadata": {},
   "outputs": [
    {
     "name": "stdout",
     "output_type": "stream",
     "text": [
      "<Thread(Thread-254 (func), started 82404)>\n",
      "hello\n",
      "hello\n",
      "hello\n",
      "hello\n",
      "hello\n"
     ]
    }
   ],
   "source": [
    "# import thread class\n",
    "from threading import Thread,current_thread\n",
    "\n",
    "# Create a function that contain code to execute\n",
    "def func(n,msg):\n",
    "    print(current_thread())\n",
    "    for i in range(n):\n",
    "        print(msg)\n",
    "# create object of thread class\n",
    "t1=Thread(target=func,args=(5,'hello'))\n",
    "\n",
    "# call thread using start() method\n",
    "t1.start()\n"
   ]
  },
  {
   "cell_type": "code",
   "execution_count": 41,
   "metadata": {},
   "outputs": [
    {
     "name": "stdout",
     "output_type": "stream",
     "text": [
      "hello\n",
      "hello\n",
      "hello\n",
      "hello\n",
      "hello\n"
     ]
    }
   ],
   "source": [
    "# Thread for method\n",
    "class example:\n",
    "    # @staticmethod @classmethod\n",
    "    def func1(n):\n",
    "        for i in range(n):\n",
    "            print('hello')\n",
    "e1=example()\n",
    "t1=Thread(target=example.func1,args=(5,))\n",
    "t1.start()"
   ]
  },
  {
   "cell_type": "code",
   "execution_count": 42,
   "metadata": {},
   "outputs": [
    {
     "name": "stdout",
     "output_type": "stream",
     "text": [
      "hello\n",
      "hello\n",
      "hello\n",
      "hello\n",
      "hello\n",
      "NAme\n",
      "NAme\n",
      "NAme\n",
      "NAme\n",
      "NAme\n",
      "Main thread\n",
      "Main thread\n",
      "Main thread\n",
      "Main thread\n",
      "Main thread\n"
     ]
    }
   ],
   "source": [
    "# using join()\n",
    "def hello(n):\n",
    "    for i in range(n):\n",
    "        print('hello')\n",
    "\n",
    "def name(n):\n",
    "    for i in range(n):\n",
    "        print('NAme')\n",
    "\n",
    "t1=Thread(target=hello,args=(5,))\n",
    "t2=Thread(target=name,args=(5,))\n",
    "t1.start()\n",
    "t1.join() # it tells that t2 is executed after the t1 ends\n",
    "t2.start()\n",
    "t2.join() # it tells that main thread is executed after the t2 ends\n",
    "\n",
    "for i in range(5):\n",
    "    print('Main thread')"
   ]
  },
  {
   "cell_type": "code",
   "execution_count": null,
   "metadata": {},
   "outputs": [
    {
     "name": "stdout",
     "output_type": "stream",
     "text": [
      "hello\n",
      "hello\n",
      "hello\n",
      "hello\n",
      "hello\n"
     ]
    },
    {
     "name": "stdout",
     "output_type": "stream",
     "text": [
      "world\n",
      "world\n",
      "world\n",
      "world\n",
      "world\n"
     ]
    }
   ],
   "source": [
    "from threading import *\n",
    "import time\n",
    "mylock=Lock() # create a object \n",
    "\n",
    "def greet(mylock,msg):\n",
    "    mylock.acquire()\n",
    "    for i in range(5):\n",
    "        print(msg)\n",
    "    time.sleep(3)\n",
    "    mylock.release()\n",
    "t1=Thread(target=greet,args=(mylock,'hello'))\n",
    "t2=Thread(target=greet,args=(mylock,'world'))\n",
    "\n",
    "t1.start()\n",
    "t2.start()\n"
   ]
  },
  {
   "cell_type": "code",
   "execution_count": null,
   "metadata": {},
   "outputs": [],
   "source": [
    "# # Thread communication\n",
    "# from threading import *\n",
    "# from time import sleep\n",
    "# e=Event()\n",
    "# def lights():\n",
    "#     while True:\n",
    "#         print('Light is green')\n",
    "#         e.set()\n",
    "#         sleep(5)\n",
    "#         print('light is red')\n",
    "#         e.clear()\n",
    "#         sleep(5)\n",
    "#         e.set()\n",
    "#     pass\n",
    "\n",
    "\n",
    "# def message():\n",
    "#     e.wait()\n",
    "#     while e.is_set():\n",
    "#         print('You can go')\n",
    "#         sleep(0.5)\n",
    "#         e.wait()\n",
    "# #\n",
    "# t1=Thread(target=lights)\n",
    "# t2=Thread(target=message)\n",
    "\n",
    "# t1.start()\n",
    "# t2.start()"
   ]
  },
  {
   "cell_type": "code",
   "execution_count": null,
   "metadata": {},
   "outputs": [],
   "source": []
  }
 ],
 "metadata": {
  "kernelspec": {
   "display_name": "venv",
   "language": "python",
   "name": "python3"
  },
  "language_info": {
   "codemirror_mode": {
    "name": "ipython",
    "version": 3
   },
   "file_extension": ".py",
   "mimetype": "text/x-python",
   "name": "python",
   "nbconvert_exporter": "python",
   "pygments_lexer": "ipython3",
   "version": "3.13.1"
  }
 },
 "nbformat": 4,
 "nbformat_minor": 2
}
