{
 "cells": [
  {
   "cell_type": "code",
   "execution_count": 1,
   "metadata": {},
   "outputs": [],
   "source": [
    "import requests\n",
    "import pandas as pd\n",
    "import time"
   ]
  },
  {
   "cell_type": "markdown",
   "metadata": {},
   "source": [
    "###### 1) Create a decorator named log_execution_time that: \n",
    "###### • Logs the start time before making an API request. \n",
    "###### • Logs the end time and total execution time after the request completes. "
   ]
  },
  {
   "cell_type": "code",
   "execution_count": 2,
   "metadata": {},
   "outputs": [
    {
     "name": "stdout",
     "output_type": "stream",
     "text": [
      "Fetching data \n",
      " start time:1738489901.140668 sec \n",
      " End time:1738489903.0620737 sec \n",
      " Total_Execution_time: 1.9214057922363281 sec\n"
     ]
    }
   ],
   "source": [
    "# Fetch Data Sequentially\n",
    "def log_execution_time(func):\n",
    "    \n",
    "    def wrapper(*args,**kwargs):\n",
    "        start_time=time.time()\n",
    "        func(*args,**kwargs)\n",
    "        end_time=time.time()\n",
    "        print(f'Fetching data \\n start time:{start_time} sec \\n End time:{end_time} sec \\n Total_Execution_time: {end_time-start_time} sec')\n",
    "    \n",
    "    return wrapper\n",
    "\n",
    "@log_execution_time\n",
    "def fetch_data_from_all_API(apis):\n",
    "    for api in apis:\n",
    "        # print(api)\n",
    "        response=requests.get(api)\n",
    "        result=response.json()\n",
    "        # print(result)\n",
    "\n",
    "apis=['https://jsonplaceholder.typicode.com/users/6','https://jsonplaceholder.typicode.com/users/4','https://jsonplaceholder.typicode.com/todos/19']\n",
    "fetch_data_from_all_API(apis)"
   ]
  },
  {
   "cell_type": "code",
   "execution_count": null,
   "metadata": {},
   "outputs": [],
   "source": []
  },
  {
   "cell_type": "code",
   "execution_count": null,
   "metadata": {},
   "outputs": [],
   "source": []
  }
 ],
 "metadata": {
  "kernelspec": {
   "display_name": "Python 3",
   "language": "python",
   "name": "python3"
  },
  "language_info": {
   "codemirror_mode": {
    "name": "ipython",
    "version": 3
   },
   "file_extension": ".py",
   "mimetype": "text/x-python",
   "name": "python",
   "nbconvert_exporter": "python",
   "pygments_lexer": "ipython3",
   "version": "3.13.1"
  }
 },
 "nbformat": 4,
 "nbformat_minor": 2
}
